{
 "cells": [
  {
   "cell_type": "code",
   "execution_count": 3,
   "metadata": {
    "collapsed": true
   },
   "outputs": [],
   "source": [
    "import bs4 as bs"
   ]
  },
  {
   "cell_type": "code",
   "execution_count": 6,
   "metadata": {
    "collapsed": true
   },
   "outputs": [],
   "source": [
    "import urllib.request"
   ]
  },
  {
   "cell_type": "code",
   "execution_count": 7,
   "metadata": {
    "collapsed": true
   },
   "outputs": [],
   "source": [
    "sauce = urllib.request.urlopen(\"https://www.programiz.com/python-programming/examples/prime-number\").read()\n",
    "\n",
    "# print(sauce)"
   ]
  },
  {
   "cell_type": "code",
   "execution_count": 8,
   "metadata": {
    "collapsed": true
   },
   "outputs": [],
   "source": [
    "soup = bs.BeautifulSoup(sauce,'lxml')\n"
   ]
  },
  {
   "cell_type": "code",
   "execution_count": 9,
   "metadata": {},
   "outputs": [
    {
     "name": "stdout",
     "output_type": "stream",
     "text": [
      "<title>Python Program to Check Prime Number</title>\n"
     ]
    }
   ],
   "source": [
    "print(soup.title)"
   ]
  },
  {
   "cell_type": "code",
   "execution_count": 10,
   "metadata": {},
   "outputs": [
    {
     "name": "stdout",
     "output_type": "stream",
     "text": [
      "No Plag\n"
     ]
    }
   ],
   "source": [
    "text = ''' jkbsbfkb\n",
    "sfhshflkhfs\n",
    "lkslkl'''\n",
    "v = set(soup.findAll(text = 'print(num,\"is not a prime number\")') )\n",
    "\n",
    "if len(v) == 0:\n",
    "    print(\"No Plag\")\n",
    "    \n",
    "else:\n",
    "    print(\"plag\")\n",
    "    "
   ]
  },
  {
   "cell_type": "code",
   "execution_count": 11,
   "metadata": {
    "collapsed": true
   },
   "outputs": [],
   "source": [
    "from difflib import SequenceMatcher"
   ]
  },
  {
   "cell_type": "code",
   "execution_count": 18,
   "metadata": {},
   "outputs": [
    {
     "name": "stdout",
     "output_type": "stream",
     "text": [
      "99 %\n"
     ]
    }
   ],
   "source": [
    "r = SequenceMatcher(None, soup.pre.text , code ).ratio()\n",
    "\n",
    "print(int(r*100),\"%\")"
   ]
  },
  {
   "cell_type": "code",
   "execution_count": 13,
   "metadata": {},
   "outputs": [
    {
     "name": "stdout",
     "output_type": "stream",
     "text": [
      "{'code', 'img', 'meta', 'iframe', 'body', 'header', 'html', 'aside', 'h3', 'strong', 'footer', 'var', 'form', 'h2', 'li', 'input', 'link', 'ul', 'noscript', 'table', 'h1', 'td', 'head', 'script', 'label', 'span', 'a', 'title', 'style', 'nav', 'section', 'p', 'samp', 'button', 'tbody', 'pre', 'ins', 'div', 'tr'}\n"
     ]
    }
   ],
   "source": [
    "s = set(tag.name for tag in soup.find_all())\n",
    "print(s)\n"
   ]
  },
  {
   "cell_type": "code",
   "execution_count": 17,
   "metadata": {
    "collapsed": true
   },
   "outputs": [],
   "source": [
    "code = '''\n",
    "# Python program to check if the input number is prime or not\n",
    "\n",
    "n = 407\n",
    "\n",
    "# take input from the user\n",
    "# n = int(input(\"Enter a number: \"))\n",
    "\n",
    "# prime numbers are greater than 1\n",
    "if n > 1:\n",
    "   # check for factors\n",
    "   for j in range(2,num):\n",
    "       if (num % i) == 0:\n",
    "           print(num,\"is not a prime number\")\n",
    "           print(i,\"times\",num//i,\"is\",num)\n",
    "           break\n",
    "   else:\n",
    "       print(num,\"is a prime number\")\n",
    "       \n",
    "# if input number is less than\n",
    "# or equal to 1, it is not prime\n",
    "else:\n",
    "   print(num,\"is not a prime number\")'''\n",
    "\n"
   ]
  },
  {
   "cell_type": "code",
   "execution_count": 112,
   "metadata": {
    "scrolled": true
   },
   "outputs": [
    {
     "ename": "AttributeError",
     "evalue": "'NoneType' object has no attribute 'text'",
     "output_type": "error",
     "traceback": [
      "\u001b[1;31m---------------------------------------------------------------------------\u001b[0m",
      "\u001b[1;31mAttributeError\u001b[0m                            Traceback (most recent call last)",
      "\u001b[1;32m<ipython-input-112-21fafdad12b0>\u001b[0m in \u001b[0;36m<module>\u001b[1;34m()\u001b[0m\n\u001b[0;32m      1\u001b[0m \u001b[1;32mfor\u001b[0m \u001b[0mi\u001b[0m \u001b[1;32min\u001b[0m \u001b[0ms\u001b[0m\u001b[1;33m:\u001b[0m\u001b[1;33m\u001b[0m\u001b[0m\n\u001b[1;32m----> 2\u001b[1;33m     \u001b[0mr\u001b[0m \u001b[1;33m=\u001b[0m \u001b[0mSequenceMatcher\u001b[0m\u001b[1;33m(\u001b[0m\u001b[1;32mNone\u001b[0m\u001b[1;33m,\u001b[0m \u001b[0msoup\u001b[0m\u001b[1;33m.\u001b[0m\u001b[0mi\u001b[0m\u001b[1;33m.\u001b[0m\u001b[0mtext\u001b[0m \u001b[1;33m,\u001b[0m \u001b[0mcode\u001b[0m \u001b[1;33m)\u001b[0m\u001b[1;33m.\u001b[0m\u001b[0mratio\u001b[0m\u001b[1;33m(\u001b[0m\u001b[1;33m)\u001b[0m\u001b[1;33m\u001b[0m\u001b[0m\n\u001b[0m\u001b[0;32m      3\u001b[0m     \u001b[0mprint\u001b[0m\u001b[1;33m(\u001b[0m\u001b[0mr\u001b[0m\u001b[1;33m*\u001b[0m\u001b[1;36m100\u001b[0m\u001b[1;33m)\u001b[0m\u001b[1;33m\u001b[0m\u001b[0m\n",
      "\u001b[1;31mAttributeError\u001b[0m: 'NoneType' object has no attribute 'text'"
     ]
    }
   ],
   "source": [
    "for i in s:\n",
    "    r = SequenceMatcher(None, soup.i.text , code ).ratio()\n",
    "    print(r*100)"
   ]
  },
  {
   "cell_type": "code",
   "execution_count": 16,
   "metadata": {},
   "outputs": [
    {
     "name": "stdout",
     "output_type": "stream",
     "text": [
      "\r\n",
      "#include<stdio.h>\r\n",
      "int main(){\r\n",
      "  int i,f=1,num;\r\n",
      "\r\n",
      "  printf(\"Enter a number: \");\r\n",
      "  scanf(\"%d\",&num);\r\n",
      "\r\n",
      "  for(i=1;i<=num;i++)\r\n",
      "      f=f*i;\r\n",
      "\r\n",
      "  printf(\"Factorial of %d is: %d\",num,f);\r\n",
      "  return 0;\r\n",
      "}\r\n",
      "\n",
      "\r\n",
      "Enter a number: 8\r\n",
      "Factorial of 8 is: 40320\r\n",
      "\n",
      "\r\n",
      "#include<stdio.h>\r\n",
      "\r\n",
      "void findFactorial(int,int *);\r\n",
      "int main(){\r\n",
      "  int i,factorial,num;\r\n",
      "\r\n",
      "  printf(\"Enter a number: \");\r\n",
      "  scanf(\"%d\",&num);\r\n",
      "\r\n",
      "  findFactorial(num,&factorial);\r\n",
      "  printf(\"Factorial of %d is: %d\",num,*factorial);\r\n",
      "\r\n",
      "  return 0;\r\n",
      "}\r\n",
      "\r\n",
      "void findFactorial(int num,int *factorial){\r\n",
      "    int i;\r\n",
      "\r\n",
      "    *factorial =1;\r\n",
      "\r\n",
      "    for(i=1;i<=num;i++)\r\n",
      "      *factorial=*factorial*i;\r\n",
      "}\r\n",
      "\n",
      "\r\n",
      "Enter a number: 8\r\n",
      "Factorial of 8 is: 40320\r\n",
      "\n",
      "\r\n",
      "#include<stdio.h>\r\n",
      "\r\n",
      "int findFactorial(int);\r\n",
      "int main(){\r\n",
      "  int i,factorial,num;\r\n",
      "\r\n",
      "  printf(\"Enter a number: \");\r\n",
      "  scanf(\"%d\",&num);\r\n",
      "\r\n",
      "  factorial = findFactorial(num);\r\n",
      "  printf(\"Factorial of %d is: %d\",num,factorial);\r\n",
      "\r\n",
      "  return 0;\r\n",
      "}\r\n",
      "\r\n",
      "int findFactorial(int num){\r\n",
      "    int i,f=1;\r\n",
      "\r\n",
      "    for(i=1;i<=num;i++)\r\n",
      "      f=f*i;\r\n",
      "\r\n",
      "     return f;\r\n",
      "}\r\n",
      "\n",
      "\r\n",
      "Enter a number: 8\r\n",
      "Factorial of 8 is: 40320\r\n",
      "\n",
      "\r\n",
      "#include<stdio.h>\r\n",
      "int main(){\r\n",
      "  long f=1;\r\n",
      "  int i,num,min,max;\r\n",
      "\r\n",
      "  printf(\"Enter the minimum range: \");\r\n",
      "  scanf(\"%d\",&min);\r\n",
      "\r\n",
      "  printf(\"Enter the maximum range: \");\r\n",
      "  scanf(\"%d\",&max);\r\n",
      "\r\n",
      "  printf(\"Factorial series in given range: \");\r\n",
      "  for(num=min;num<=max;num++){\r\n",
      "    f=1;\r\n",
      "\r\n",
      "    for(i=1;i<=num;i++)\r\n",
      "      f=f*i;\r\n",
      "\r\n",
      "    printf(\"%ld \",f);\r\n",
      "  }\r\n",
      "\r\n",
      "  return 0;\r\n",
      "}\r\n",
      "\n",
      "\r\n",
      "Enter the minimum range: 1\r\n",
      "Enter the maximum range: 10\r\n",
      "Factorial series in given range: 1 2 6 24 120 720 5040 40320 362880 \r\n",
      "\n",
      "\r\n",
      "#include<stdio.h>\r\n",
      "int main(){\r\n",
      "  int i=1,f=1,num;\r\n",
      "\r\n",
      "  printf(\"Enter a number: \");\r\n",
      "  scanf(\"%d\",&num);\r\n",
      "\r\n",
      "  while(i<=num){\r\n",
      "      f=f*i;\r\n",
      "      i++;\r\n",
      "  }\r\n",
      "\r\n",
      "  printf(\"Factorial of %d is: %d\",num,f);\r\n",
      "  return 0;\r\n",
      "}\r\n",
      "\n",
      "\r\n",
      "Enter a number: 5\r\n",
      "Factorial of 5 is: 120\r\n",
      "\n",
      "65 %\n"
     ]
    }
   ],
   "source": [
    "import bs4 as bs\n",
    "import urllib.request\n",
    "from difflib import SequenceMatcher\n",
    "code = '''\n",
    "#include<stdio.h>\n",
    "int main(){\n",
    "  int i=1,f=1,num;\n",
    "\n",
    "  printf(\"Enter a number: \");\n",
    "  scanf(\"%d\",&num);\n",
    "\n",
    "  while(i<=num){\n",
    "      f=f*i;\n",
    "      i++;\n",
    "  }\n",
    "\n",
    "  printf(\"Factorial of %d is: %d\",num,f);\n",
    "  return 0;\n",
    "}\n",
    " \n",
    "\n",
    "\n",
    "Enter a number: 5\n",
    "Factorial of 5 is: 120\n",
    "'''\n",
    "\n",
    "sauce = urllib.request.urlopen(\"http://scanftree.com/programs/c/to-find-factorial-of-a-number-using-c-program/\").read()\n",
    "soup = bs.BeautifulSoup(sauce,'lxml')\n",
    "#print(soup.text)\n",
    "for strong_tag in soup.find_all('pre'):\n",
    "    print(strong_tag.text)\n",
    "r = SequenceMatcher(None, soup.pre.text , code ).ratio()\n",
    "\n",
    "print(int(r*100),\"%\")\n"
   ]
  },
  {
   "cell_type": "code",
   "execution_count": 1,
   "metadata": {},
   "outputs": [
    {
     "name": "stdout",
     "output_type": "stream",
     "text": [
      "95 %\n"
     ]
    }
   ],
   "source": [
    "import bs4 as bs\n",
    "import urllib.request\n",
    "from difflib import SequenceMatcher\n",
    "code = '''\n",
    "#include<stdio.h>\n",
    " \n",
    "int main()\n",
    "{\n",
    "   int a, b, c;\n",
    " \n",
    "   printf(\"Enter two numbers to add\\n\");\n",
    "   scanf(\"%d%d\",&a,&b);\n",
    " \n",
    "   c = a + b;\n",
    " \n",
    "   printf(\"Sum of entered numbers = %d\\n\",c);\n",
    " \n",
    "   return 0;\n",
    "}\n",
    "'''\n",
    "try:\n",
    "    r=[]\n",
    "    urls=[\"http://www.programmingsimplified.com/c-program-add-two-numbers\",\"http://scanftree.com/programs/c/to-find-factorial-of-a-number-using-c-program/\",\"http://www.sanfoundry.com/c-program-armstrong-number/\"]\n",
    "    for url in urls:\n",
    "        sauce = urllib.request.urlopen(url).read()\n",
    "        soup = bs.BeautifulSoup(sauce,'lxml')\n",
    "        #print(soup.text)\n",
    "        for pre_tag in soup.find_all('pre'):\n",
    "            #print(pre_tag.text)\n",
    "            r.append(SequenceMatcher(None, pre_tag.text , code ).ratio())\n",
    "            #print(r)\n",
    "except :\n",
    "    print(int(max(r)*100),\"%\")\n",
    "    \n"
   ]
  },
  {
   "cell_type": "code",
   "execution_count": null,
   "metadata": {
    "collapsed": true
   },
   "outputs": [],
   "source": []
  }
 ],
 "metadata": {
  "kernelspec": {
   "display_name": "Python 3",
   "language": "python",
   "name": "python3"
  },
  "language_info": {
   "codemirror_mode": {
    "name": "ipython",
    "version": 3
   },
   "file_extension": ".py",
   "mimetype": "text/x-python",
   "name": "python",
   "nbconvert_exporter": "python",
   "pygments_lexer": "ipython3",
   "version": "3.6.2"
  }
 },
 "nbformat": 4,
 "nbformat_minor": 2
}
